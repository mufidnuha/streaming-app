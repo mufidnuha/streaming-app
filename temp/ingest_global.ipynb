{
 "cells": [
  {
   "cell_type": "code",
   "execution_count": 24,
   "metadata": {},
   "outputs": [],
   "source": [
    "import ssl\n",
    "ssl._create_default_https_context = ssl._create_unverified_context\n",
    "from google_play_scraper import app\n",
    "import pandas as pd\n",
    "import numpy as np\n",
    "from datetime import date"
   ]
  },
  {
   "cell_type": "code",
   "execution_count": 55,
   "metadata": {},
   "outputs": [],
   "source": [
    "streaming_apps = [\n",
    "    {\n",
    "        \"app_name\":\"wetv\",\n",
    "        \"gp_id\":\"com.tencent.qqlivei18n\",\n",
    "        \"apple_id\":\"1441531611\"\n",
    "    },\n",
    "    {\n",
    "        \"app_name\":\"netflix\",\n",
    "        \"gp_id\":\"com.netflix.mediaclient\",\n",
    "        \"apple_id\":\"363590051\"\n",
    "    },\n",
    "    {\n",
    "        \"app_name\":\"viu\",\n",
    "        \"gp_id\":\"com.vuclip.viu\",\n",
    "        \"apple_id\":\"1044543328\"\n",
    "    },\n",
    "    {\n",
    "        \"app_name\":\"vidio\",\n",
    "        \"gp_id\":\"com.vidio.android\",\n",
    "        \"apple_id\":\"1048858798\"\n",
    "    },\n",
    "    {\n",
    "        \"app_name\":\"disney_hotstar\",\n",
    "        \"gp_id\":\"in.startv.hotstar.dplus\",\n",
    "        \"apple_id\":\"1524156685\"\n",
    "    },\n",
    "]\n",
    "country='id'\n",
    "language='id'"
   ]
  },
  {
   "cell_type": "code",
   "execution_count": 56,
   "metadata": {},
   "outputs": [],
   "source": [
    "df = pd.DataFrame(columns=['app_name','date','num_reviews', 'num_ratings','score_one','score_two','score_three','score_four','score_five'])"
   ]
  },
  {
   "cell_type": "code",
   "execution_count": 58,
   "metadata": {},
   "outputs": [],
   "source": [
    "for apps in streaming_apps:\n",
    "    results = app(\n",
    "        apps['gp_id'],\n",
    "        lang=language,\n",
    "        country=country # defaults to 'us'\n",
    "    )\n",
    "\n",
    "    num_ratings = results['ratings']\n",
    "    num_reviews = results['reviews']\n",
    "    score_one = results['histogram'][0]\n",
    "    score_two = results['histogram'][1]\n",
    "    score_three = results['histogram'][2]\n",
    "    score_four = results['histogram'][3]\n",
    "    score_five = results['histogram'][4]\n",
    "    current_date = date.today().strftime(\"%Y-%m-%d\")\n",
    "    df.loc[len(df)] = [apps['app_name'], current_date, num_reviews, num_ratings, score_one, score_two, score_three, score_four, score_five]"
   ]
  },
  {
   "cell_type": "code",
   "execution_count": 59,
   "metadata": {},
   "outputs": [
    {
     "data": {
      "text/html": [
       "<div>\n",
       "<style scoped>\n",
       "    .dataframe tbody tr th:only-of-type {\n",
       "        vertical-align: middle;\n",
       "    }\n",
       "\n",
       "    .dataframe tbody tr th {\n",
       "        vertical-align: top;\n",
       "    }\n",
       "\n",
       "    .dataframe thead th {\n",
       "        text-align: right;\n",
       "    }\n",
       "</style>\n",
       "<table border=\"1\" class=\"dataframe\">\n",
       "  <thead>\n",
       "    <tr style=\"text-align: right;\">\n",
       "      <th></th>\n",
       "      <th>app_name</th>\n",
       "      <th>date</th>\n",
       "      <th>num_reviews</th>\n",
       "      <th>num_ratings</th>\n",
       "      <th>score_one</th>\n",
       "      <th>score_two</th>\n",
       "      <th>score_three</th>\n",
       "      <th>score_four</th>\n",
       "      <th>score_five</th>\n",
       "    </tr>\n",
       "  </thead>\n",
       "  <tbody>\n",
       "    <tr>\n",
       "      <th>0</th>\n",
       "      <td>wetv</td>\n",
       "      <td>2022-03-03</td>\n",
       "      <td>73265</td>\n",
       "      <td>490641</td>\n",
       "      <td>53704</td>\n",
       "      <td>18258</td>\n",
       "      <td>29245</td>\n",
       "      <td>52320</td>\n",
       "      <td>337114</td>\n",
       "    </tr>\n",
       "    <tr>\n",
       "      <th>1</th>\n",
       "      <td>netflix</td>\n",
       "      <td>2022-03-03</td>\n",
       "      <td>48757</td>\n",
       "      <td>12744353</td>\n",
       "      <td>1894757</td>\n",
       "      <td>342328</td>\n",
       "      <td>497531</td>\n",
       "      <td>948140</td>\n",
       "      <td>9061597</td>\n",
       "    </tr>\n",
       "    <tr>\n",
       "      <th>2</th>\n",
       "      <td>viu</td>\n",
       "      <td>2022-03-03</td>\n",
       "      <td>186369</td>\n",
       "      <td>920107</td>\n",
       "      <td>122903</td>\n",
       "      <td>41228</td>\n",
       "      <td>62300</td>\n",
       "      <td>104780</td>\n",
       "      <td>588896</td>\n",
       "    </tr>\n",
       "    <tr>\n",
       "      <th>3</th>\n",
       "      <td>vidio</td>\n",
       "      <td>2022-03-03</td>\n",
       "      <td>188126</td>\n",
       "      <td>455510</td>\n",
       "      <td>52245</td>\n",
       "      <td>14337</td>\n",
       "      <td>25781</td>\n",
       "      <td>47220</td>\n",
       "      <td>315927</td>\n",
       "    </tr>\n",
       "    <tr>\n",
       "      <th>4</th>\n",
       "      <td>disney_hotstar</td>\n",
       "      <td>2022-03-03</td>\n",
       "      <td>23807</td>\n",
       "      <td>62516</td>\n",
       "      <td>9178</td>\n",
       "      <td>3243</td>\n",
       "      <td>4078</td>\n",
       "      <td>6279</td>\n",
       "      <td>39738</td>\n",
       "    </tr>\n",
       "  </tbody>\n",
       "</table>\n",
       "</div>"
      ],
      "text/plain": [
       "         app_name        date num_reviews num_ratings score_one score_two  \\\n",
       "0            wetv  2022-03-03       73265      490641     53704     18258   \n",
       "1         netflix  2022-03-03       48757    12744353   1894757    342328   \n",
       "2             viu  2022-03-03      186369      920107    122903     41228   \n",
       "3           vidio  2022-03-03      188126      455510     52245     14337   \n",
       "4  disney_hotstar  2022-03-03       23807       62516      9178      3243   \n",
       "\n",
       "  score_three score_four score_five  \n",
       "0       29245      52320     337114  \n",
       "1      497531     948140    9061597  \n",
       "2       62300     104780     588896  \n",
       "3       25781      47220     315927  \n",
       "4        4078       6279      39738  "
      ]
     },
     "execution_count": 59,
     "metadata": {},
     "output_type": "execute_result"
    }
   ],
   "source": [
    "df"
   ]
  },
  {
   "cell_type": "code",
   "execution_count": 52,
   "metadata": {},
   "outputs": [
    {
     "data": {
      "text/plain": [
       "520318"
      ]
     },
     "execution_count": 52,
     "metadata": {},
     "output_type": "execute_result"
    }
   ],
   "source": [
    "sum(df['num_reviews'])"
   ]
  },
  {
   "cell_type": "code",
   "execution_count": 53,
   "metadata": {},
   "outputs": [
    {
     "data": {
      "text/plain": [
       "(5, 9)"
      ]
     },
     "execution_count": 53,
     "metadata": {},
     "output_type": "execute_result"
    }
   ],
   "source": [
    "df.shape"
   ]
  },
  {
   "cell_type": "code",
   "execution_count": 54,
   "metadata": {},
   "outputs": [
    {
     "data": {
      "text/plain": [
       "5"
      ]
     },
     "execution_count": 54,
     "metadata": {},
     "output_type": "execute_result"
    }
   ],
   "source": [
    "df.shape[0]"
   ]
  },
  {
   "cell_type": "code",
   "execution_count": null,
   "metadata": {},
   "outputs": [],
   "source": []
  }
 ],
 "metadata": {
  "interpreter": {
   "hash": "aee8b7b246df8f9039afb4144a1f6fd8d2ca17a180786b69acc140d282b71a49"
  },
  "kernelspec": {
   "display_name": "Python 3.8.10 64-bit",
   "language": "python",
   "name": "python3"
  },
  "language_info": {
   "codemirror_mode": {
    "name": "ipython",
    "version": 3
   },
   "file_extension": ".py",
   "mimetype": "text/x-python",
   "name": "python",
   "nbconvert_exporter": "python",
   "pygments_lexer": "ipython3",
   "version": "3.8.10"
  },
  "orig_nbformat": 4
 },
 "nbformat": 4,
 "nbformat_minor": 2
}
